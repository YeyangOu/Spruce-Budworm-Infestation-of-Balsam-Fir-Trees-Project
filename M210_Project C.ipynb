{
 "cells": [
  {
   "cell_type": "markdown",
   "id": "6cd317",
   "metadata": {
    "collapsed": false
   },
   "source": [
    "# MATH 210/215 Project C\n",
    "\n",
    "Doreen Cai: 81597270\n",
    "\n",
    "Ethan Chen: 64423676\n",
    "\n",
    "Liu Sun: 72619521\n",
    "\n",
    "Yeyang\\(David\\) Ou: 93180594 \n",
    "\n"
   ]
  },
  {
   "cell_type": "markdown",
   "id": "40906d",
   "metadata": {
    "collapsed": false
   },
   "source": [
    "### Spruce Budworm Infestation of Balsam Fir Trees\n",
    "\n",
    "In this project, we will analyze a set of ordinary differential equations \\(ODEs\\) that represent a model for analyzing the impact of spruce budworms on balsam fir forests. Fundamentally, the model outlines how a host population \\(the trees\\) is gradually affected by a parasitic population \\(the budworms\\).  As the trees progressively lose biomass to these parasites, the budworms' sustainable population level correspondingly diminishes.  When faced with certain predatory behaviors, such as birds preying on the budworms, there is a sharp decline in the budworm population as it reaches a critical level of support.  Consequently, this allows the tree population to slowly rebuild past the point where budworm numbers plummet, enabling their numbers to grow again. The dynamics repeat themselves.  \n",
    "$$ \n",
    "\\frac{dB}{dt}= B(1-\\frac{B}{\\alpha S})-\\beta \\frac{B^n}{S^n+B^n}\n",
    "$$ \n",
    "$$\n",
    "\\frac{dS}{dt} =\\epsilon(S(1-S)-\\delta B)\n",
    "$$\n",
    "\n",
    "Variables are described as:\n",
    "\n",
    "- $B$: budworm population density\n",
    "- $S$: total surface area of tree branches\n",
    "\n"
   ]
  },
  {
   "cell_type": "markdown",
   "id": "b78ca7",
   "metadata": {
    "collapsed": false
   },
   "source": [
    "#### Parameter Values\n",
    "\n",
    "We will define our parameters as followed:\n",
    "\n",
    "- Sensitivity of budworm carrying capacity to branch loss, alpha $\\alpha = 8$\n",
    "\n",
    "- Insensitivity of predation by birds, beta $\\beta = 1.5$\n",
    "\n",
    "- Ratio of growth time scales \\(tree:budworm\\), epsilon $\\epsilon = 0.05$ \n",
    "\n",
    "- Per capita impact of budworm on trees, delta $\\delta = 0.1$ \n",
    "\n",
    "- Power of predation, $n = 2$ \n",
    "\n"
   ]
  },
  {
   "cell_type": "code",
   "execution_count": 371,
   "id": "022148",
   "metadata": {
    "collapsed": false
   },
   "outputs": [
   ],
   "source": [
    "import numpy as np\n",
    "import matplotlib.pyplot as plt \n",
    "import scipy.integrate as spi"
   ]
  },
  {
   "cell_type": "markdown",
   "id": "7644ad",
   "metadata": {
    "collapsed": false
   },
   "source": [
    "## Part 1: Plotting the $\\frac{dB}{dt}$ and $\\frac{dS}{dt}$ Function\n",
    "\n"
   ]
  },
  {
   "cell_type": "markdown",
   "id": "36fa14",
   "metadata": {
    "collapsed": false
   },
   "source": [
    "For the first part, we will first plot the  $\\frac{dB}{dt}$ and $\\frac{dS}{dt}$ function.\n",
    "\n"
   ]
  },
  {
   "cell_type": "code",
   "execution_count": 372,
   "id": "561b73",
   "metadata": {
    "collapsed": false
   },
   "outputs": [
   ],
   "source": [
    "# Define vectors\n",
    "\n",
    "alpha = 8\n",
    "beta = 1.5\n",
    "n = 2\n",
    "epsilon = 0.05\n",
    "delta = 0.1"
   ]
  },
  {
   "cell_type": "code",
   "execution_count": 373,
   "id": "9a4df9",
   "metadata": {
    "collapsed": false
   },
   "outputs": [
    {
     "data": {
      "image/png": "[encoded data removed]",
      "text/plain": "<Figure size 864x504 with 1 Axes>"
     },
     "metadata": {
      "image/png": {
       "height": 428,
       "width": 736
      },
      "needs_background": "light"
     }
    }
   ],
   "source": [
    "# Define functions and Run to see the plot\n",
    "f = lambda B,S: B*(alpha*S-B)*(S**n+B**n)-alpha*beta*S*B**n\n",
    "g = lambda B,S: epsilon*(S*(1-S)-delta*B)\n",
    "\n",
    "B = np.linspace(-0.5,3,100)\n",
    "S = np.linspace(-1,2,100)\n",
    "X,Y = np.meshgrid(B,S)\n",
    "Z = f(X,Y)\n",
    "Q = g(X,Y)\n",
    "\n",
    "\n",
    "plt.contour(B,S,Z,levels=0,colors='r')\n",
    "plt.contour(B,S,Q,levels=0,colors='b')\n",
    "plt.xlabel('B (budworm population density)')\n",
    "plt.ylabel('S (total surface area of tree branches)')\n",
    "plt.grid(True)\n",
    "plt.show()"
   ]
  },
  {
   "cell_type": "code",
   "execution_count": 374,
   "id": "d2b7f9",
   "metadata": {
    "collapsed": false
   },
   "outputs": [
    {
     "data": {
      "image/png": "[encoded data removed]",
      "text/plain": "<Figure size 864x504 with 1 Axes>"
     },
     "metadata": {
      "image/png": {
       "height": 428,
       "width": 741
      },
      "needs_background": "light"
     }
    }
   ],
   "source": [
    "# Minimize the coordinates to find the steay states\n",
    "B = np.linspace(1,2,100)\n",
    "S = np.linspace(0.7,0.9,100)\n",
    "X,Y = np.meshgrid(B,S)\n",
    "Z = f(X,Y)\n",
    "Q = g(X,Y)\n",
    "\n",
    "\n",
    "plt.contour(B,S,Z,levels=0,colors='r')\n",
    "plt.contour(B,S,Q,levels=0,colors='b')\n",
    "plt.xlabel('B (budworm population density)')\n",
    "plt.ylabel('S (total surface area of tree branches)')\n",
    "plt.grid(True)\n",
    "plt.show()\n"
   ]
  },
  {
   "cell_type": "markdown",
   "id": "37f56e",
   "metadata": {
    "collapsed": false
   },
   "source": [
   ]
  },
  {
   "cell_type": "markdown",
   "id": "4c3d1a",
   "metadata": {
    "collapsed": false
   },
   "source": [
    "## Part 2: Finding The Steady State\n",
    "\n"
   ]
  },
  {
   "cell_type": "markdown",
   "id": "5aaa5c",
   "metadata": {
    "collapsed": false
   },
   "source": [
    "The steady states occur at the intersection of the nullclines \\(when $f(x,y) = g(x,y) = 0$ \\), we will use the `scipy.optimize` function to solve for the steady state. By looking at the graph closely, there are 5 intersections. The two graphs intersect with each other three times between $B = 1$ and $B = 2$ and there are two steady states at $B= 0$. However, we will be ignoring the 2 intersection at $B= 0$ since $ \\frac{dB}{dt}= B(1-\\frac{B}{\\alpha S})-\\beta \\frac{B^n}{S^n+B^n}$ will be zero \\(hence no population\\). So, we will only consider 3 steady states.\n"
   ]
  },
  {
   "cell_type": "code",
   "execution_count": 375,
   "id": "386e34",
   "metadata": {
    "collapsed": false
   },
   "outputs": [
    {
     "name": "stdout",
     "output_type": "stream",
     "text": [
      "Steady State 1: [1.20514474 0.85984097]\n",
      "Steady State 2: [1.6 0.8]\n",
      "Steady State 3: [1.78461676 0.76746649]\n"
     ]
    }
   ],
   "source": [
    "import scipy.optimize as spo\n",
    "\n",
    "#Define the function and guess the steady states points\n",
    "F = lambda v: np.array([f(*v),g(*v)])\n",
    "v0 = [1,0.9]\n",
    "v1 = [1.6,0.8]\n",
    "v2 = [1.8,0.8]\n",
    "\n",
    "ss0 = spo.fsolve(F,v0)\n",
    "ss1 = spo.fsolve(F,v1)\n",
    "ss2 = spo.fsolve(F,v2)\n",
    "\n",
    "print('Steady State 1:', ss0)\n",
    "print('Steady State 2:', ss1)\n",
    "print('Steady State 3:', ss2)\n"
   ]
  },
  {
   "cell_type": "markdown",
   "id": "f2054e",
   "metadata": {
    "collapsed": false
   },
   "source": [
    "We found that there are 3 steady states:\n",
    "\n",
    "* **Steady State 1:** \\[1.20514474 0.85984097\\]\n",
    "* **Steady State 2:** \\[1.6 0.8\\]\n",
    "* **Steady State 3:** \\[1.78461676 0.76746649\\]\n",
    "\n"
   ]
  },
  {
   "cell_type": "markdown",
   "id": "bba996",
   "metadata": {
    "collapsed": false
   },
   "source": [
    "## Part 3: Approximating the Solutions of the System of ODEs\n",
    "\n"
   ]
  },
  {
   "cell_type": "markdown",
   "id": "1bc11c",
   "metadata": {
    "collapsed": false
   },
   "source": [
    "To use `scipy.integrate.odeint` to approximate solutions of our system of ODEs, we have to write our functions as a first order system of equations.\n",
    "\n",
    "Let $u_0 = B, u_1 = B', u_2 = S, u_3 = S'$\n",
    "\n",
    "- $u_0' = u_1$\n",
    "- $u_1' = B(1-\\frac{B}{\\alpha S})-\\beta \\frac{B^n}{S^n+B^n}$\n",
    "- $u_2' = u_3$\n",
    "- $u_3' = \\epsilon(S(1-S)-\\delta B)$\n",
    "\n"
   ]
  },
  {
   "cell_type": "code",
   "execution_count": 376,
   "id": "a725f8",
   "metadata": {
    "collapsed": false
   },
   "outputs": [
    {
     "data": {
      "image/png": "[encoded data removed]",
      "text/plain": "<Figure size 864x504 with 1 Axes>"
     },
     "metadata": {
      "image/png": {
       "height": 440,
       "width": 723
      },
      "needs_background": "light"
     }
    }
   ],
   "source": [
    "# Define vectors and plot B and S\n",
    "B = np.linspace(0,5,100)\n",
    "S = np.linspace(0,1.2,100)\n",
    "X,Y = np.meshgrid(B,S)\n",
    "Z = f(X,Y)\n",
    "Q = g(X,Y)\n",
    "plt.contour(B,S,Z,levels=0,colors='r')\n",
    "plt.contour(B,S,Q,levels=0,colors='b')\n",
    "\n",
    "# Define ODEs function\n",
    "def h(u, t):\n",
    "    B, S = u\n",
    "    dBdt = B*(1-B/(alpha*S)) - beta*(B**n)/(S**n+B**n)\n",
    "    dSdt = epsilon * (S * (1 - S) - delta * B)\n",
    "    return [dBdt, dSdt]\n",
    "\n",
    "# Set initial conditions\n",
    "initial_values = [[0.1,0.1],[0.2,0.2],[0.3,0.3],[0.5,0.5],[0.7,0.7],[1.0,1.0]]\n",
    "\n",
    "# Time points to evaluate the ODEs\n",
    "t = np.linspace(0, 100, 1000)\n",
    "\n",
    "\n",
    "# Solve the system for each initial value\n",
    "for B0, S0 in initial_values:\n",
    "    \n",
    "    # Integrate the ODEs for each set of initial conditions\n",
    "    sol = spi.odeint(h, [B0,S0], t)  \n",
    "\n",
    "    # Plot trajectory\n",
    "    plt.plot(sol[:, 0], sol[:, 1], label=f'B(0)={B0}, S(0)={S0}')\n",
    "\n",
    "# Add labels and legend\n",
    "plt.title('Trajectories of the system of ODEs')\n",
    "plt.xlabel('Budworm Population Density (B)')\n",
    "plt.ylabel('Total Surface Area of Tree Branches (S)')\n",
    "plt.legend()\n",
    "\n",
    "# Show plots\n",
    "plt.grid(True)\n",
    "plt.show()"
   ]
  },
  {
   "cell_type": "markdown",
   "id": "7515d0",
   "metadata": {
    "collapsed": false
   },
   "source": [
    "From the graphs above, we can see the trajectories of the system of ODEs plotted for different initial conditions of B\\(0\\) and S\\(0\\). Each trajectory represents how the budworm population density \\(B\\) and the total surface area of tree branches \\(S\\) evolve over time. \n",
    "\n"
   ]
  },
  {
   "cell_type": "markdown",
   "id": "b973b6",
   "metadata": {
    "collapsed": false
   },
   "source": [
    "### Part 4: Change in Behaviors Varying Beta \\($\\beta$\\)  and Delta\\($\\delta$ \\)\n",
    "\n"
   ]
  },
  {
   "cell_type": "markdown",
   "id": "f1343c",
   "metadata": {
    "collapsed": false
   },
   "source": [
    "We choose to vary parameters $\\beta$ and $\\delta$. Let's vary $\\beta$ between 1.2 and 1.8 \\(which is ±20% of 1.5\\) and $\\delta$ between 0.08 and 0.12 \\(which is ±20% of 0.1\\). \n"
   ]
  },
  {
   "cell_type": "code",
   "execution_count": 377,
   "id": "c39e9c",
   "metadata": {
    "collapsed": false
   },
   "outputs": [
    {
     "data": {
      "image/png": "[encoded data removed]",
      "text/plain": "<Figure size 864x504 with 1 Axes>"
     },
     "metadata": {
      "image/png": {
       "height": 440,
       "width": 720
      },
      "needs_background": "light"
     }
    }
   ],
   "source": [
    "# Define a range for beta and delta parameters\n",
    "beta_values = np.linspace(1.2, 1.8, 5)  # Vary β between 1.2 and 1.8\n",
    "delta_values = np.linspace(0.08, 0.12, 5)  # Vary δ between 0.08 and 0.12\n",
    "\n",
    "# Initial conditions and time points\n",
    "initial_conditions = ([0.5,0.5])\n",
    "t = np.linspace(0, 100, 1000)\n",
    "\n",
    "# Simulate and plot the trajectories\n",
    "for beta in beta_values:\n",
    "    for delta in delta_values:\n",
    "        # Integrate the system of ODEs\n",
    "        trajectory = spi.odeint(h, initial_conditions, t)\n",
    "        plt.plot(trajectory[:, 0], trajectory[:, 1], label=f'β={beta:.2f}, δ={delta:.2f}')\n",
    "\n",
    "# Labeling the axes and show the plot\n",
    "plt.xlabel('Budworm Population Density (B)')\n",
    "plt.ylabel('Total Surface Area of Tree Branches (S)')\n",
    "plt.title('Trajectories for Varied β and δ')\n",
    "plt.legend()\n",
    "plt.show()"
   ]
  },
  {
   "cell_type": "markdown",
   "id": "fee473",
   "metadata": {
    "collapsed": false
   },
   "source": [
    "From the plot, we can see varying $\\beta$ and $\\delta$ leads to both quantitative changes\\(such as the extent of budworm population and tree surface area\\)and qualitative changes\\(such as the existence, stability\\).\n"
   ]
  }
 ],
 "metadata": {
  "kernelspec": {
   "argv": [
    "/usr/bin/python3",
    "-m",
    "ipykernel",
    "--HistoryManager.enabled=False",
    "--matplotlib=inline",
    "-c",
    "%config InlineBackend.figure_formats = set(['retina'])\nimport matplotlib; matplotlib.rcParams['figure.figsize'] = (12, 7)",
    "-f",
    "{connection_file}"
   ],
   "display_name": "Python 3 (system-wide)",
   "env": {
   },
   "language": "python",
   "metadata": {
    "cocalc": {
     "description": "Python 3 programming language",
     "priority": 100,
     "url": "https://www.python.org/"
    }
   },
   "name": "python3",
   "resource_dir": "/ext/jupyter/kernels/python3"
  }
 },
 "nbformat": 4,
 "nbformat_minor": 4
}